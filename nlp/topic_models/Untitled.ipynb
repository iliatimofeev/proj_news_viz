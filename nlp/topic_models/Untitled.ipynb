{
 "cells": [
  {
   "cell_type": "code",
   "execution_count": 3,
   "metadata": {},
   "outputs": [
    {
     "data": {
      "text/plain": [
       "'Независимые владельцы АЗС и Федеральная антимонопольная служба (ФАС) добились изменения формулировки в условиях соглашения правительства с нефтяниками о заморозке цен на топливо, которое было заключено в начале ноября. Об этом РБК рассказал президент Российского топливного союза (объединяет владельцев независимых АЗС) Евгений Аркуша.'"
      ]
     },
     "execution_count": 3,
     "metadata": {},
     "output_type": "execute_result"
    }
   ],
   "source": [
    "\"\"\"Независимые владельцы АЗС и Федеральная антимонопольная служба (ФАС) добились изменения формулировки в условиях соглашения правительства с нефтяниками о заморозке цен на топливо, которое было заключено в начале ноября. Об этом РБК рассказал президент Российского топливного союза (объединяет владельцев независимых АЗС) Евгений Аркуша.\n",
    "\"\"\".replace(\"\\n\",\"\")"
   ]
  },
  {
   "cell_type": "code",
   "execution_count": null,
   "metadata": {},
   "outputs": [],
   "source": []
  }
 ],
 "metadata": {
  "kernelspec": {
   "display_name": "proj_viz",
   "language": "python",
   "name": "proj_viz"
  },
  "language_info": {
   "codemirror_mode": {
    "name": "ipython",
    "version": 3
   },
   "file_extension": ".py",
   "mimetype": "text/x-python",
   "name": "python",
   "nbconvert_exporter": "python",
   "pygments_lexer": "ipython3",
   "version": "3.6.6"
  }
 },
 "nbformat": 4,
 "nbformat_minor": 2
}
